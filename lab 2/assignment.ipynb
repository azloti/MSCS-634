{
 "cells": [
  {
   "cell_type": "markdown",
   "id": "6c02e6c9",
   "metadata": {},
   "source": [
    "Adrian-Nichita Zloteanu\n",
    "MSCS-634  \n",
    "Lab 2 – KNN vs RNN on the Wine Dataset"
   ]
  },
  {
   "cell_type": "markdown",
   "id": "f63efe23",
   "metadata": {},
   "source": [
    "First, I will load the dataset, and display the feature & target names:"
   ]
  },
  {
   "cell_type": "code",
   "execution_count": 11,
   "id": "c1841c89",
   "metadata": {},
   "outputs": [
    {
     "name": "stdout",
     "output_type": "stream",
     "text": [
      "Feature names: ['alcohol', 'malic_acid', 'ash', 'alcalinity_of_ash', 'magnesium', 'total_phenols', 'flavanoids', 'nonflavanoid_phenols', 'proanthocyanins', 'color_intensity', 'hue', 'od280/od315_of_diluted_wines', 'proline']\n",
      "Target names: ['class_0' 'class_1' 'class_2']\n"
     ]
    },
    {
     "data": {
      "text/html": [
       "<div>\n",
       "<style scoped>\n",
       "    .dataframe tbody tr th:only-of-type {\n",
       "        vertical-align: middle;\n",
       "    }\n",
       "\n",
       "    .dataframe tbody tr th {\n",
       "        vertical-align: top;\n",
       "    }\n",
       "\n",
       "    .dataframe thead th {\n",
       "        text-align: right;\n",
       "    }\n",
       "</style>\n",
       "<table border=\"1\" class=\"dataframe\">\n",
       "  <thead>\n",
       "    <tr style=\"text-align: right;\">\n",
       "      <th></th>\n",
       "      <th>alcohol</th>\n",
       "      <th>malic_acid</th>\n",
       "      <th>ash</th>\n",
       "      <th>alcalinity_of_ash</th>\n",
       "      <th>magnesium</th>\n",
       "      <th>total_phenols</th>\n",
       "      <th>flavanoids</th>\n",
       "      <th>nonflavanoid_phenols</th>\n",
       "      <th>proanthocyanins</th>\n",
       "      <th>color_intensity</th>\n",
       "      <th>hue</th>\n",
       "      <th>od280/od315_of_diluted_wines</th>\n",
       "      <th>proline</th>\n",
       "      <th>target</th>\n",
       "    </tr>\n",
       "  </thead>\n",
       "  <tbody>\n",
       "    <tr>\n",
       "      <th>0</th>\n",
       "      <td>14.23</td>\n",
       "      <td>1.71</td>\n",
       "      <td>2.43</td>\n",
       "      <td>15.6</td>\n",
       "      <td>127.0</td>\n",
       "      <td>2.80</td>\n",
       "      <td>3.06</td>\n",
       "      <td>0.28</td>\n",
       "      <td>2.29</td>\n",
       "      <td>5.64</td>\n",
       "      <td>1.04</td>\n",
       "      <td>3.92</td>\n",
       "      <td>1065.0</td>\n",
       "      <td>0</td>\n",
       "    </tr>\n",
       "    <tr>\n",
       "      <th>1</th>\n",
       "      <td>13.20</td>\n",
       "      <td>1.78</td>\n",
       "      <td>2.14</td>\n",
       "      <td>11.2</td>\n",
       "      <td>100.0</td>\n",
       "      <td>2.65</td>\n",
       "      <td>2.76</td>\n",
       "      <td>0.26</td>\n",
       "      <td>1.28</td>\n",
       "      <td>4.38</td>\n",
       "      <td>1.05</td>\n",
       "      <td>3.40</td>\n",
       "      <td>1050.0</td>\n",
       "      <td>0</td>\n",
       "    </tr>\n",
       "    <tr>\n",
       "      <th>2</th>\n",
       "      <td>13.16</td>\n",
       "      <td>2.36</td>\n",
       "      <td>2.67</td>\n",
       "      <td>18.6</td>\n",
       "      <td>101.0</td>\n",
       "      <td>2.80</td>\n",
       "      <td>3.24</td>\n",
       "      <td>0.30</td>\n",
       "      <td>2.81</td>\n",
       "      <td>5.68</td>\n",
       "      <td>1.03</td>\n",
       "      <td>3.17</td>\n",
       "      <td>1185.0</td>\n",
       "      <td>0</td>\n",
       "    </tr>\n",
       "    <tr>\n",
       "      <th>3</th>\n",
       "      <td>14.37</td>\n",
       "      <td>1.95</td>\n",
       "      <td>2.50</td>\n",
       "      <td>16.8</td>\n",
       "      <td>113.0</td>\n",
       "      <td>3.85</td>\n",
       "      <td>3.49</td>\n",
       "      <td>0.24</td>\n",
       "      <td>2.18</td>\n",
       "      <td>7.80</td>\n",
       "      <td>0.86</td>\n",
       "      <td>3.45</td>\n",
       "      <td>1480.0</td>\n",
       "      <td>0</td>\n",
       "    </tr>\n",
       "    <tr>\n",
       "      <th>4</th>\n",
       "      <td>13.24</td>\n",
       "      <td>2.59</td>\n",
       "      <td>2.87</td>\n",
       "      <td>21.0</td>\n",
       "      <td>118.0</td>\n",
       "      <td>2.80</td>\n",
       "      <td>2.69</td>\n",
       "      <td>0.39</td>\n",
       "      <td>1.82</td>\n",
       "      <td>4.32</td>\n",
       "      <td>1.04</td>\n",
       "      <td>2.93</td>\n",
       "      <td>735.0</td>\n",
       "      <td>0</td>\n",
       "    </tr>\n",
       "  </tbody>\n",
       "</table>\n",
       "</div>"
      ],
      "text/plain": [
       "   alcohol  malic_acid   ash  alcalinity_of_ash  magnesium  total_phenols  \\\n",
       "0    14.23        1.71  2.43               15.6      127.0           2.80   \n",
       "1    13.20        1.78  2.14               11.2      100.0           2.65   \n",
       "2    13.16        2.36  2.67               18.6      101.0           2.80   \n",
       "3    14.37        1.95  2.50               16.8      113.0           3.85   \n",
       "4    13.24        2.59  2.87               21.0      118.0           2.80   \n",
       "\n",
       "   flavanoids  nonflavanoid_phenols  proanthocyanins  color_intensity   hue  \\\n",
       "0        3.06                  0.28             2.29             5.64  1.04   \n",
       "1        2.76                  0.26             1.28             4.38  1.05   \n",
       "2        3.24                  0.30             2.81             5.68  1.03   \n",
       "3        3.49                  0.24             2.18             7.80  0.86   \n",
       "4        2.69                  0.39             1.82             4.32  1.04   \n",
       "\n",
       "   od280/od315_of_diluted_wines  proline  target  \n",
       "0                          3.92   1065.0       0  \n",
       "1                          3.40   1050.0       0  \n",
       "2                          3.17   1185.0       0  \n",
       "3                          3.45   1480.0       0  \n",
       "4                          2.93    735.0       0  "
      ]
     },
     "execution_count": 11,
     "metadata": {},
     "output_type": "execute_result"
    }
   ],
   "source": [
    "from sklearn.datasets import load_wine\n",
    "import pandas as pd\n",
    "import numpy as np\n",
    "\n",
    "wine = load_wine()\n",
    "X = wine.data\n",
    "y = wine.target\n",
    "\n",
    "# display feature & target names\n",
    "print(\"Feature names:\", wine.feature_names)\n",
    "print(\"Target names:\", wine.target_names)\n",
    "\n",
    "# Create a DataFrame\n",
    "df = pd.DataFrame(X, columns=wine.feature_names)\n",
    "df['target'] = y\n",
    "\n",
    "df.head()"
   ]
  },
  {
   "cell_type": "code",
   "execution_count": 13,
   "id": "b03f3125",
   "metadata": {},
   "outputs": [
    {
     "name": "stdout",
     "output_type": "stream",
     "text": [
      "class 0: 59 samples\n",
      "class 1: 71 samples\n",
      "class 2: 48 samples\n"
     ]
    }
   ],
   "source": [
    "# Get unique class labels and their counts\n",
    "classes, counts = np.unique(y, return_counts=True)\n",
    "\n",
    "# Print distribution\n",
    "for cls, count in zip(classes, counts):\n",
    "    print(f\"class {cls}: {count} samples\")"
   ]
  },
  {
   "cell_type": "markdown",
   "id": "fed48a23",
   "metadata": {},
   "source": [
    "Now I will split the dataset into 80% training and 20% testing sets"
   ]
  },
  {
   "cell_type": "code",
   "execution_count": 17,
   "id": "ee68c127",
   "metadata": {},
   "outputs": [
    {
     "name": "stdout",
     "output_type": "stream",
     "text": [
      "Training size: 142\n",
      "Testing size: 36\n"
     ]
    }
   ],
   "source": [
    "from sklearn.model_selection import train_test_split\n",
    "\n",
    "# Split the dataset\n",
    "X_train, X_test, y_train, y_test = train_test_split(\n",
    "    X, y, test_size=0.2, stratify=y\n",
    ")\n",
    "\n",
    "print(\"Training size:\", X_train.shape[0])\n",
    "print(\"Testing size:\", X_test.shape[0])"
   ]
  },
  {
   "cell_type": "markdown",
   "id": "62147238",
   "metadata": {},
   "source": [
    "Step 2: K-Nearest Neighbors (KNN)\n",
    "\n",
    "Using the k-values from the assignment, I will train the model and evaluate accuracy on the test set"
   ]
  },
  {
   "cell_type": "code",
   "execution_count": null,
   "id": "b8712ccb",
   "metadata": {},
   "outputs": [
    {
     "name": "stdout",
     "output_type": "stream",
     "text": [
      "k=1 accuracy: 0.7777777777777778\n",
      "k=5 accuracy: 0.6944444444444444\n",
      "k=11 accuracy: 0.6944444444444444\n",
      "k=15 accuracy: 0.6388888888888888\n",
      "k=21 accuracy: 0.6666666666666666\n"
     ]
    }
   ],
   "source": [
    "from sklearn.neighbors import KNeighborsClassifier\n",
    "from sklearn.metrics import accuracy_score\n",
    "\n",
    "k_values = [1, 5, 11, 15, 21] # From assignment\n",
    "\n",
    "# Saving for later assignment\n",
    "knn_accuracies = []\n",
    "\n",
    "for k in k_values:\n",
    "    # create the KNN classifier\n",
    "    knn = KNeighborsClassifier(n_neighbors=k)\n",
    "\n",
    "    # fit the model\n",
    "    knn.fit(X_train, y_train)\n",
    "\n",
    "    # predict the labels of the test set\n",
    "    y_pred = knn.predict(X_test)\n",
    "\n",
    "    # calculate accuracy\n",
    "    acc = accuracy_score(y_test, y_pred)\n",
    "    knn_accuracies.append(acc)\n",
    "    print(f\"k={k} accuracy: {acc}\")"
   ]
  },
  {
   "cell_type": "markdown",
   "id": "f81d3b3c",
   "metadata": {},
   "source": [
    "Step 3: Radius Neighbours (RNN)\n",
    "\n",
    "Similar to the previous step, we will test a Radius Neighbours classifier"
   ]
  },
  {
   "cell_type": "code",
   "execution_count": 36,
   "id": "65811758",
   "metadata": {},
   "outputs": [
    {
     "name": "stdout",
     "output_type": "stream",
     "text": [
      "radius=350 accuracy: 0.6388888888888888\n",
      "radius=400 accuracy: 0.6111111111111112\n",
      "radius=450 accuracy: 0.6111111111111112\n",
      "radius=500 accuracy: 0.6111111111111112\n",
      "radius=550 accuracy: 0.6111111111111112\n",
      "radius=600 accuracy: 0.6111111111111112\n"
     ]
    }
   ],
   "source": [
    "from sklearn.neighbors import RadiusNeighborsClassifier\n",
    "\n",
    "radius_values = [350, 400, 450, 500, 550, 600]\n",
    "\n",
    "# Saving for later assignment\n",
    "rnn_accuracies = []\n",
    "\n",
    "for radius in radius_values:\n",
    "    rnn = RadiusNeighborsClassifier(radius=radius, outlier_label=-1)\n",
    "    rnn.fit(X_train, y_train)\n",
    "    y_pred = rnn.predict(X_test)\n",
    "    mask = y_pred != -1\n",
    "    acc = accuracy_score(y_test[mask], y_pred[mask])\n",
    "\n",
    "    rnn_accuracies.append(acc)\n",
    "    print(f\"radius={radius} accuracy: {acc}\")"
   ]
  },
  {
   "cell_type": "markdown",
   "id": "b90ce293",
   "metadata": {},
   "source": [
    "For step 4, I will plot charts for accuracy of KNN and RNN algorithms"
   ]
  },
  {
   "cell_type": "code",
   "execution_count": 42,
   "id": "cbccb083",
   "metadata": {},
   "outputs": [
    {
     "data": {
      "image/png": "[encoded data removed]",
      "text/plain": [
       "<Figure size 640x480 with 1 Axes>"
      ]
     },
     "metadata": {},
     "output_type": "display_data"
    }
   ],
   "source": [
    "import matplotlib.pyplot as plt\n",
    "\n",
    "plt.plot(k_values, knn_accuracies)\n",
    "plt.title('KNN')\n",
    "plt.xlabel('K')\n",
    "plt.ylabel('Accuracy')\n",
    "plt.xticks(k_values)\n",
    "plt.show()"
   ]
  },
  {
   "cell_type": "code",
   "execution_count": 45,
   "id": "3647029b",
   "metadata": {},
   "outputs": [
    {
     "data": {
      "image/png": "[encoded data removed]",
      "text/plain": [
       "<Figure size 640x480 with 1 Axes>"
      ]
     },
     "metadata": {},
     "output_type": "display_data"
    }
   ],
   "source": [
    "plt.plot(radius_values, rnn_accuracies)\n",
    "plt.title('RNN')\n",
    "plt.xlabel('Radius')\n",
    "plt.ylabel('Accuracy')\n",
    "plt.xticks(radius_values)\n",
    "plt.show()"
   ]
  },
  {
   "cell_type": "markdown",
   "id": "90335a88",
   "metadata": {},
   "source": [
    "Result analysis\n",
    "\n",
    "KNN clearly outperformed RNN for this scenario. Best accuracy for KNN started at ~78% when K=1, while best recorded accuracy for RNN was less than 64%. Even the worst performance for RNN, with k=15, outperformed KNN.\n",
    "\n",
    "For KNN, the accuracy continously dropped, rebounding a bit between K=15 and K=21, but it never got close to the original performance. This suggests KNN works best with fewer neighbours for this dataset.\n",
    "\n",
    "For RNN, as mentioned before, accuracy was lower. Highest was slightly less than 64% at the starting radius of 350, but afterwards it steeply dropped for all other values. \n",
    "\n",
    "Overall, it seems KNN is more stable and accurate for this dataset. \n",
    "\n",
    "\n"
   ]
  }
 ],
 "metadata": {
  "kernelspec": {
   "display_name": "base",
   "language": "python",
   "name": "python3"
  },
  "language_info": {
   "codemirror_mode": {
    "name": "ipython",
    "version": 3
   },
   "file_extension": ".py",
   "mimetype": "text/x-python",
   "name": "python",
   "nbconvert_exporter": "python",
   "pygments_lexer": "ipython3",
   "version": "3.9.12"
  }
 },
 "nbformat": 4,
 "nbformat_minor": 5
}
